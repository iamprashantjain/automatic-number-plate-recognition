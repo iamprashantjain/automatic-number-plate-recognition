{
 "cells": [
  {
   "cell_type": "code",
   "execution_count": 12,
   "id": "3e7423f0",
   "metadata": {},
   "outputs": [
    {
     "name": "stderr",
     "output_type": "stream",
     "text": [
      "YOLOv5  2022-12-15 Python-3.10.7 torch-1.13.0+cpu CPU\n",
      "\n",
      "Fusing layers... \n",
      "Model summary: 416 layers, 139970872 parameters, 0 gradients\n",
      "Adding AutoShape... \n"
     ]
    },
    {
     "name": "stdout",
     "output_type": "stream",
     "text": [
      "[{'xmin': 623.75341796875, 'ymin': 748.9343872070312, 'xmax': 879.8867797851562, 'ymax': 813.3150024414062, 'confidence': 0.8784735202789307, 'class': 0, 'name': 'number plate'}]\n"
     ]
    },
    {
     "data": {
      "text/plain": [
       "'DL7CM1354\\n'"
      ]
     },
     "execution_count": 12,
     "metadata": {},
     "output_type": "execute_result"
    }
   ],
   "source": [
    "import io\n",
    "import json\n",
    "from PIL import Image\n",
    "import torch\n",
    "import cv2\n",
    "import matplotlib.pyplot as plt\n",
    "import pytesseract        # added code\n",
    "from pytesseract import image_to_string # added code \n",
    "import glob\n",
    "import pandas as pd\n",
    "import re\n",
    "\n",
    "pytesseract.pytesseract.tesseract_cmd = r\"C:\\Program Files\\Tesseract-OCR\\tesseract.exe\"\n",
    "\n",
    "model = torch.hub.load(\"D:/pricex_model_api/deep_learning/yolov5-master\", 'custom', path = \"D:/pricex_model_api/deep_learning/best.pt\", source='local', force_reload=True)\n",
    "img = r\"D:\\pricex_model_api\\deep_learning\\img\\file_465_100568_5ff56cecb092e.jpg\"\n",
    "\n",
    "\n",
    "def yolomodel(img):\n",
    "        frame = cv2.imread(img)\n",
    "        detections = model(frame)\n",
    "        results = detections.pandas().xyxy[0].to_dict(orient=\"records\")\n",
    "        print(results)\n",
    "        \n",
    "        for result in results:\n",
    "            con = result['confidence']\n",
    "            cs = result['class']\n",
    "            x1 = int(result['xmin'])\n",
    "            y1 = int(result['ymin'])\n",
    "            x2 = int(result['xmax'])\n",
    "            y2 = int(result['ymax'])\n",
    "            cropped_img = frame[y1:y2,x1:x2]\n",
    "            \n",
    "            try:\n",
    "                text = pytesseract.image_to_string(cropped_img, config='-l eng --psm 10 -c tessedit_char_whitelist=ABCDEFGHIJKLMNOPQRSTUVWXYZ1234567890') # added code\n",
    "#                 raw = re.sub(\"[^A-Z0-9 -]\", \"\", text)\n",
    "#                 final_result = re.sub(r'[\\W_]+', '', raw)\n",
    "#                 number_plate.append(final_result)\n",
    "#                 imagess.append(img)\n",
    "                return text\n",
    "            \n",
    "            except:\n",
    "                print('Not readable')\n",
    "                    \n",
    "                    \n",
    "\n",
    "yolomodel(img)"
   ]
  },
  {
   "cell_type": "code",
   "execution_count": null,
   "id": "a8ba8098",
   "metadata": {},
   "outputs": [],
   "source": []
  },
  {
   "cell_type": "code",
   "execution_count": null,
   "id": "39abf94a",
   "metadata": {},
   "outputs": [],
   "source": []
  },
  {
   "cell_type": "code",
   "execution_count": null,
   "id": "a4b28fa2",
   "metadata": {},
   "outputs": [],
   "source": []
  }
 ],
 "metadata": {
  "kernelspec": {
   "display_name": "Python 3 (ipykernel)",
   "language": "python",
   "name": "python3"
  },
  "language_info": {
   "codemirror_mode": {
    "name": "ipython",
    "version": 3
   },
   "file_extension": ".py",
   "mimetype": "text/x-python",
   "name": "python",
   "nbconvert_exporter": "python",
   "pygments_lexer": "ipython3",
   "version": "3.10.7"
  }
 },
 "nbformat": 4,
 "nbformat_minor": 5
}
